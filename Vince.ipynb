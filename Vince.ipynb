{
 "cells": [
  {
   "cell_type": "markdown",
   "metadata": {},
   "source": [
    "# Vince"
   ]
  },
  {
   "cell_type": "markdown",
   "metadata": {},
   "source": [
    "Peace_Treaty_Accords\tTechnological_Advancements\tAmmonia_Concentration\tPrecious_Metal_Trade_Tons\tFood_Production_Tons\tTrade_Agreements_Signed\tLast_Contact_Days\tDiscovery_Date\tMineral_Extraction_Tons\tGalactic_Visits"
   ]
  },
  {
   "cell_type": "code",
   "execution_count": null,
   "metadata": {},
   "outputs": [],
   "source": [
    "print('hello world')"
   ]
  }
 ],
 "metadata": {
  "language_info": {
   "name": "python"
  }
 },
 "nbformat": 4,
 "nbformat_minor": 2
}
