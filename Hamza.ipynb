{
 "cells": [
  {
   "cell_type": "markdown",
   "metadata": {},
   "source": [
    "# Hamza"
   ]
  },
  {
   "cell_type": "markdown",
   "metadata": {},
   "source": [
    "Sulfur_Concentration\tExploration_Missions\tBiological_Research_Units\tOffspring_Colonies\tCultural_Exchange_Programs\tMilitary_Engagements\tInhabitants_Disputes\tResource_Mining_Operations\tResource_Allocation_Credits\tYoung_Colonies"
   ]
  },
  {
   "cell_type": "code",
   "execution_count": null,
   "metadata": {},
   "outputs": [],
   "source": [
    "print('hello world')"
   ]
  }
 ],
 "metadata": {
  "language_info": {
   "name": "python"
  }
 },
 "nbformat": 4,
 "nbformat_minor": 2
}
