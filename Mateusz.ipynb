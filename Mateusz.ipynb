{
 "cells": [
  {
   "cell_type": "markdown",
   "metadata": {},
   "source": [
    "# Mateusz"
   ]
  },
  {
   "cell_type": "markdown",
   "metadata": {},
   "source": [
    "HeavyMetals_Concentration\tTerraforming_Initiatives\tLiquid_Energy_Consumption_Terawatts\tAlien_Population_Count\tCO2_Concentration\tDominant_Species_Social_Structure\tHydrogen_Concentration\tColonization_Year\tSpecies_Expansion_Response\tAlien_Civilization_Level\tInterplanetary_Communications"
   ]
  },
  {
   "cell_type": "code",
   "execution_count": null,
   "metadata": {},
   "outputs": [],
   "source": [
    "print('hello world')"
   ]
  }
 ],
 "metadata": {
  "language_info": {
   "name": "python"
  }
 },
 "nbformat": 4,
 "nbformat_minor": 2
}
